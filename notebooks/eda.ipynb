{
 "cells": [
  {
   "cell_type": "markdown",
   "id": "ca4d43e8",
   "metadata": {},
   "source": [
    "# **Exploratory Data Analysis**: FlipTop"
   ]
  },
  {
   "cell_type": "markdown",
   "id": "a9ef77b5",
   "metadata": {},
   "source": [
    "## Data Wrangling\n",
    "----"
   ]
  },
  {
   "cell_type": "markdown",
   "id": "eeacf8d5",
   "metadata": {},
   "source": [
    "Data wrangled using `yt-dlp`."
   ]
  },
  {
   "cell_type": "code",
   "execution_count": 1,
   "id": "9404f070",
   "metadata": {},
   "outputs": [
    {
     "name": "stdout",
     "output_type": "stream",
     "text": [
      "Environment working, yeah?\n"
     ]
    }
   ],
   "source": [
    "import pandas as pd\n",
    "import numpy as np\n",
    "\n",
    "print(\"Environment working, yeah?\")"
   ]
  },
  {
   "cell_type": "markdown",
   "id": "6b4aca40",
   "metadata": {},
   "source": [
    "## Data Cleaning\n",
    "----"
   ]
  },
  {
   "cell_type": "markdown",
   "id": "3df80c3e",
   "metadata": {},
   "source": [
    "Tasks:\n",
    "\n",
    "- Some shorts/round highlight moments were uploaded on the [videos playlist](https://www.youtube.com/@fliptopbattles/videos) of the channel so need to filter by duration, especially post-2020 (when YouTube Shorts became a thing).\n",
    "- Only considering 1v1 battles that were judged (for now)\n",
    "    - So remove:\n",
    "        - Sound Check\n",
    "        - Freestyle battles\n",
    "        - Dos Por Dos (2v2)\n",
    "        - Royal Rumble (1v1v1v1v1)\n",
    "        - Those two 5v5 battles that happened only twice\n",
    "        - Anygma Machine\n",
    "        - Video Flyer\n",
    "        - Announcement videos\n",
    "        - Emcee interview videos\n"
   ]
  },
  {
   "cell_type": "markdown",
   "id": "96075e2c",
   "metadata": {},
   "source": []
  }
 ],
 "metadata": {
  "kernelspec": {
   "display_name": "fliptop-analysis",
   "language": "python",
   "name": "python3"
  },
  "language_info": {
   "codemirror_mode": {
    "name": "ipython",
    "version": 3
   },
   "file_extension": ".py",
   "mimetype": "text/x-python",
   "name": "python",
   "nbconvert_exporter": "python",
   "pygments_lexer": "ipython3",
   "version": "3.11.0"
  }
 },
 "nbformat": 4,
 "nbformat_minor": 5
}
