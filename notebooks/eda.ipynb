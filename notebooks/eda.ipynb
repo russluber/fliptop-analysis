{
 "cells": [
  {
   "cell_type": "markdown",
   "id": "ca4d43e8",
   "metadata": {},
   "source": [
    "# **Exploratory Data Analysis**: FlipTop"
   ]
  },
  {
   "cell_type": "markdown",
   "id": "a9ef77b5",
   "metadata": {},
   "source": [
    "## Data Wrangling"
   ]
  },
  {
   "cell_type": "code",
   "execution_count": 4,
   "id": "9404f070",
   "metadata": {},
   "outputs": [
    {
     "name": "stdout",
     "output_type": "stream",
     "text": [
      "Environment working, yeah?\n"
     ]
    }
   ],
   "source": [
    "import yt_dlp as yt\n",
    "import pandas as pd\n",
    "import numpy as np\n",
    "import requests as req\n",
    "from bs4 import BeautifulSoup as Soup\n",
    "\n",
    "print(\"Environment working, yeah?\")"
   ]
  },
  {
   "cell_type": "markdown",
   "id": "fad2f1c0",
   "metadata": {},
   "source": [
    "Small beginnings."
   ]
  }
 ],
 "metadata": {
  "kernelspec": {
   "display_name": "fliptop-analysis",
   "language": "python",
   "name": "python3"
  },
  "language_info": {
   "codemirror_mode": {
    "name": "ipython",
    "version": 3
   },
   "file_extension": ".py",
   "mimetype": "text/x-python",
   "name": "python",
   "nbconvert_exporter": "python",
   "pygments_lexer": "ipython3",
   "version": "3.11.0"
  }
 },
 "nbformat": 4,
 "nbformat_minor": 5
}
